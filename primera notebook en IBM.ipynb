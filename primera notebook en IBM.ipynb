{
    "cells": [
        {
            "cell_type": "code",
            "execution_count": 1,
            "metadata": {},
            "outputs": [
                {
                    "data": {
                        "text/html": "<div>\n<style scoped>\n    .dataframe tbody tr th:only-of-type {\n        vertical-align: middle;\n    }\n\n    .dataframe tbody tr th {\n        vertical-align: top;\n    }\n\n    .dataframe thead th {\n        text-align: right;\n    }\n</style>\n<table border=\"1\" class=\"dataframe\">\n  <thead>\n    <tr style=\"text-align: right;\">\n      <th></th>\n      <th>CloseTime</th>\n      <th>OpenPrice</th>\n      <th>ClosePrice</th>\n      <th>HighPrice</th>\n      <th>LowPrice</th>\n      <th>Volume</th>\n    </tr>\n  </thead>\n  <tbody>\n    <tr>\n      <th>0</th>\n      <td>2013-04-01 23:58:00</td>\n      <td>103.83018</td>\n      <td>103.99900</td>\n      <td>103.99900</td>\n      <td>103.83018</td>\n      <td>2.200000</td>\n    </tr>\n    <tr>\n      <th>1</th>\n      <td>2013-04-01 23:57:00</td>\n      <td>103.49951</td>\n      <td>103.49951</td>\n      <td>103.49951</td>\n      <td>103.49951</td>\n      <td>3.148377</td>\n    </tr>\n    <tr>\n      <th>2</th>\n      <td>2013-04-01 23:55:00</td>\n      <td>103.00007</td>\n      <td>103.00007</td>\n      <td>103.00007</td>\n      <td>103.00007</td>\n      <td>5.400000</td>\n    </tr>\n    <tr>\n      <th>3</th>\n      <td>2013-04-01 23:40:00</td>\n      <td>103.22979</td>\n      <td>102.53000</td>\n      <td>103.22979</td>\n      <td>102.53000</td>\n      <td>5.816000</td>\n    </tr>\n    <tr>\n      <th>4</th>\n      <td>2013-04-01 23:39:00</td>\n      <td>102.99999</td>\n      <td>103.70250</td>\n      <td>103.70250</td>\n      <td>102.99999</td>\n      <td>50.000000</td>\n    </tr>\n  </tbody>\n</table>\n</div>",
                        "text/plain": "             CloseTime  OpenPrice  ClosePrice  HighPrice   LowPrice     Volume\n0  2013-04-01 23:58:00  103.83018   103.99900  103.99900  103.83018   2.200000\n1  2013-04-01 23:57:00  103.49951   103.49951  103.49951  103.49951   3.148377\n2  2013-04-01 23:55:00  103.00007   103.00007  103.00007  103.00007   5.400000\n3  2013-04-01 23:40:00  103.22979   102.53000  103.22979  102.53000   5.816000\n4  2013-04-01 23:39:00  102.99999   103.70250  103.70250  102.99999  50.000000"
                    },
                    "execution_count": 1,
                    "metadata": {},
                    "output_type": "execute_result"
                }
            ],
            "source": "# The code was removed by Watson Studio for sharing."
        },
        {
            "cell_type": "code",
            "execution_count": 2,
            "metadata": {},
            "outputs": [],
            "source": "bit_data[\"date\"]=pd.to_datetime(bit_data[\"CloseTime\"]).dt.date\ngroup=bit_data.groupby(\"date\")\ndata=group[\"ClosePrice\"].mean()"
        },
        {
            "cell_type": "code",
            "execution_count": 6,
            "metadata": {},
            "outputs": [
                {
                    "name": "stdout",
                    "output_type": "stream",
                    "text": "x_train shape=  (2466, 50, 1)\ny_train shape=  (2466,)\n"
                }
            ],
            "source": "close_train=data.iloc[:len(data)-50]\nclose_test=data.iloc[len(close_train):]\n\n#feature scalling (set values between 0-1)\nclose_train=np.array(close_train)\nclose_train=close_train.reshape(close_train.shape[0],1)\nfrom sklearn.preprocessing import MinMaxScaler\nscaler=MinMaxScaler(feature_range=(0,1))\nclose_scaled=scaler.fit_transform(close_train)\n\ntimestep=50\nx_train=[]\ny_train=[]\n\nfor i in range(timestep,close_scaled.shape[0]):\n    x_train.append(close_scaled[i-timestep:i,0])\n    y_train.append(close_scaled[i,0])\n\nx_train,y_train=np.array(x_train),np.array(y_train)\nx_train=x_train.reshape(x_train.shape[0],x_train.shape[1],1) #reshaped for RNN\nprint(\"x_train shape= \",x_train.shape)\nprint(\"y_train shape= \",y_train.shape)"
        },
        {
            "cell_type": "code",
            "execution_count": null,
            "metadata": {},
            "outputs": [
                {
                    "name": "stdout",
                    "output_type": "stream",
                    "text": "WARNING:tensorflow:From /opt/conda/envs/Python36/lib/python3.6/site-packages/tensorflow/python/ops/math_ops.py:3066: to_int32 (from tensorflow.python.ops.math_ops) is deprecated and will be removed in a future version.\nInstructions for updating:\nUse tf.cast instead.\nEpoch 1/100\n 320/2466 [==>...........................] - ETA: 47:47 - loss: 0.1100"
                }
            ],
            "source": "from sklearn.metrics import mean_absolute_error\nfrom keras.models import Sequential\nfrom keras.layers import Dense, LSTM, Dropout,Flatten\n\nmodel=Sequential()\n\nmodel.add(LSTM(10,input_shape=(None,1),activation=\"relu\"))\n\nmodel.add(Dense(1))\n\nmodel.compile(loss=\"mean_squared_error\",optimizer=\"nadam\")\n\nmodel.fit(x_train,y_train,epochs=100,batch_size=32)"
        },
        {
            "cell_type": "code",
            "execution_count": null,
            "metadata": {},
            "outputs": [],
            "source": "inputs=data[len(data)-len(close_test)-timestep:]\ninputs=inputs.values.reshape(-1,1)\ninputs=scaler.transform(inputs)\nx_test=[]\nfor i in range(timestep,inputs.shape[0]):\n    x_test.append(inputs[i-timestep:i,0])\nx_test=np.array(x_test)\nx_test=x_test.reshape(x_test.shape[0],x_test.shape[1],1)"
        },
        {
            "cell_type": "code",
            "execution_count": null,
            "metadata": {},
            "outputs": [],
            "source": "predicted_data=model.predict(x_test)\npredicted_data=scaler.inverse_transform(predicted_data)"
        },
        {
            "cell_type": "code",
            "execution_count": null,
            "metadata": {},
            "outputs": [],
            "source": "data_test=np.array(close_test)\ndata_test=data_test.reshape(len(data_test),1)\nplt.figure(figsize=(8,4), dpi=80, facecolor='w', edgecolor='k')\nplt.plot(data_test,color=\"r\",label=\"true result\")\nplt.plot(predicted_data,color=\"b\",label=\"predicted result\")\nplt.legend()\nplt.xlabel(\"Time(50 days)\")\nplt.ylabel(\"Close Values\")\nplt.grid(True)\nplt.show()\nimport sklearn.datasets as datasets\nimport matplotlib.pyplot as plt\nX, Y = datasets.make_blobs(centers=4, cluster_std=0.5, random_state=0)\nplt.scatter(X[:,0], X[:,1]);"
        },
        {
            "cell_type": "code",
            "execution_count": null,
            "metadata": {},
            "outputs": [],
            "source": ""
        }
    ],
    "metadata": {
        "kernelspec": {
            "display_name": "Python 3.6",
            "language": "python",
            "name": "python3"
        },
        "language_info": {
            "codemirror_mode": {
                "name": "ipython",
                "version": 3
            },
            "file_extension": ".py",
            "mimetype": "text/x-python",
            "name": "python",
            "nbconvert_exporter": "python",
            "pygments_lexer": "ipython3",
            "version": "3.6.9"
        }
    },
    "nbformat": 4,
    "nbformat_minor": 1
}